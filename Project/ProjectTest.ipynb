{
 "cells": [
  {
   "cell_type": "markdown",
   "metadata": {},
   "source": [
    "# Project"
   ]
  },
  {
   "cell_type": "code",
   "execution_count": 39,
   "metadata": {},
   "outputs": [],
   "source": [
    "import numpy as np\n",
    "import scipy.stats as sc\n",
    "import networkx as nx\n",
    "import seaborn as sns\n",
    "import pandas as pd\n",
    "import matplotlib.pyplot as plt\n",
    "import collections\n",
    "sns.set()"
   ]
  },
  {
   "cell_type": "code",
   "execution_count": 45,
   "metadata": {},
   "outputs": [],
   "source": [
    "def print_degree_dist(G,lin,log):\n",
    "    degree_sequence = sorted([d for n, d in G.degree()], reverse=True)  # degree sequence\n",
    "    degreeCount = collections.Counter(degree_sequence) # degree count\n",
    "    print(\"Empirical Degree Distribution for network: \"+G.name)\n",
    "    if lin:\n",
    "        nx_hist(degree_sequence,len(degreeCount))\n",
    "    if log:\n",
    "        nx_hist(degree_sequence,len(degreeCount),yscale='log') \n",
    "    #nx_hist(degree_sequence,len(degreeCount),yscale='log',use_log=True) \n",
    "    \n",
    "def nx_hist(x, bins, normed = False, xscale = 'linear', yscale = 'linear', use_log = False, title = None, xlabel = 'Degree', ylabel = 'Count'): \n",
    "    density = None\n",
    "    if(normed):\n",
    "        density = 1\n",
    "        ylabel = 'Probability'\n",
    "    fig = plt.figure(figsize=(15,6))\n",
    "    plt.hist(x, bins=bins, normed=density, log=use_log)\n",
    "    plt.xlabel(xlabel)\n",
    "    plt.ylabel(ylabel)\n",
    "    #plt.xscale(yscale)\n",
    "    plt.yscale(yscale)\n",
    "    plt.title(title)\n",
    "    plt.grid(True)\n",
    "    plt.show()"
   ]
  },
  {
   "cell_type": "code",
   "execution_count": 13,
   "metadata": {},
   "outputs": [],
   "source": [
    "users = pd.read_csv('filtered_users.csv')\n",
    "relations = pd.read_csv('filtered_relations.csv')\n",
    "days = relations.day.unique()"
   ]
  },
  {
   "cell_type": "code",
   "execution_count": 14,
   "metadata": {},
   "outputs": [
    {
     "data": {
      "text/html": [
       "<div>\n",
       "<style scoped>\n",
       "    .dataframe tbody tr th:only-of-type {\n",
       "        vertical-align: middle;\n",
       "    }\n",
       "\n",
       "    .dataframe tbody tr th {\n",
       "        vertical-align: top;\n",
       "    }\n",
       "\n",
       "    .dataframe thead th {\n",
       "        text-align: right;\n",
       "    }\n",
       "</style>\n",
       "<table border=\"1\" class=\"dataframe\">\n",
       "  <thead>\n",
       "    <tr style=\"text-align: right;\">\n",
       "      <th></th>\n",
       "      <th>day</th>\n",
       "      <th>time_ms</th>\n",
       "      <th>src</th>\n",
       "      <th>dst</th>\n",
       "      <th>relation</th>\n",
       "    </tr>\n",
       "  </thead>\n",
       "  <tbody>\n",
       "    <tr>\n",
       "      <th>0</th>\n",
       "      <td>0</td>\n",
       "      <td>7857852</td>\n",
       "      <td>1</td>\n",
       "      <td>3993630</td>\n",
       "      <td>5</td>\n",
       "    </tr>\n",
       "    <tr>\n",
       "      <th>1</th>\n",
       "      <td>0</td>\n",
       "      <td>7860977</td>\n",
       "      <td>1</td>\n",
       "      <td>3181660</td>\n",
       "      <td>5</td>\n",
       "    </tr>\n",
       "    <tr>\n",
       "      <th>2</th>\n",
       "      <td>0</td>\n",
       "      <td>7862420</td>\n",
       "      <td>1</td>\n",
       "      <td>1582548</td>\n",
       "      <td>5</td>\n",
       "    </tr>\n",
       "    <tr>\n",
       "      <th>3</th>\n",
       "      <td>0</td>\n",
       "      <td>7866986</td>\n",
       "      <td>1</td>\n",
       "      <td>5208994</td>\n",
       "      <td>5</td>\n",
       "    </tr>\n",
       "    <tr>\n",
       "      <th>4</th>\n",
       "      <td>2</td>\n",
       "      <td>21455967</td>\n",
       "      <td>1</td>\n",
       "      <td>2330216</td>\n",
       "      <td>5</td>\n",
       "    </tr>\n",
       "    <tr>\n",
       "      <th>5</th>\n",
       "      <td>2</td>\n",
       "      <td>21472493</td>\n",
       "      <td>1</td>\n",
       "      <td>4483813</td>\n",
       "      <td>5</td>\n",
       "    </tr>\n",
       "    <tr>\n",
       "      <th>6</th>\n",
       "      <td>2</td>\n",
       "      <td>21475362</td>\n",
       "      <td>1</td>\n",
       "      <td>4921394</td>\n",
       "      <td>5</td>\n",
       "    </tr>\n",
       "    <tr>\n",
       "      <th>7</th>\n",
       "      <td>3</td>\n",
       "      <td>26385447</td>\n",
       "      <td>1</td>\n",
       "      <td>4966471</td>\n",
       "      <td>5</td>\n",
       "    </tr>\n",
       "    <tr>\n",
       "      <th>8</th>\n",
       "      <td>3</td>\n",
       "      <td>26386914</td>\n",
       "      <td>1</td>\n",
       "      <td>4242568</td>\n",
       "      <td>5</td>\n",
       "    </tr>\n",
       "    <tr>\n",
       "      <th>9</th>\n",
       "      <td>3</td>\n",
       "      <td>26390396</td>\n",
       "      <td>1</td>\n",
       "      <td>1035238</td>\n",
       "      <td>5</td>\n",
       "    </tr>\n",
       "  </tbody>\n",
       "</table>\n",
       "</div>"
      ],
      "text/plain": [
       "   day   time_ms  src      dst  relation\n",
       "0    0   7857852    1  3993630         5\n",
       "1    0   7860977    1  3181660         5\n",
       "2    0   7862420    1  1582548         5\n",
       "3    0   7866986    1  5208994         5\n",
       "4    2  21455967    1  2330216         5\n",
       "5    2  21472493    1  4483813         5\n",
       "6    2  21475362    1  4921394         5\n",
       "7    3  26385447    1  4966471         5\n",
       "8    3  26386914    1  4242568         5\n",
       "9    3  26390396    1  1035238         5"
      ]
     },
     "execution_count": 14,
     "metadata": {},
     "output_type": "execute_result"
    }
   ],
   "source": [
    "relations.head(10)"
   ]
  },
  {
   "cell_type": "markdown",
   "metadata": {},
   "source": [
    "## All data is over 10 days"
   ]
  },
  {
   "cell_type": "code",
   "execution_count": 15,
   "metadata": {},
   "outputs": [
    {
     "data": {
      "text/plain": [
       "array([0, 2, 3, 4, 5, 6, 7, 9, 1, 8])"
      ]
     },
     "execution_count": 15,
     "metadata": {},
     "output_type": "execute_result"
    }
   ],
   "source": [
    "days"
   ]
  },
  {
   "cell_type": "code",
   "execution_count": 16,
   "metadata": {},
   "outputs": [],
   "source": [
    "DayNetworks = [relations[relations.day == k] for k in days]"
   ]
  },
  {
   "cell_type": "code",
   "execution_count": 20,
   "metadata": {},
   "outputs": [
    {
     "name": "stdout",
     "output_type": "stream",
     "text": [
      "(3294, 5)\n",
      "(5459, 5)\n",
      "(7010, 5)\n",
      "(9860, 5)\n",
      "(10635, 5)\n",
      "(13761, 5)\n",
      "(11339, 5)\n",
      "(10260, 5)\n",
      "(3596, 5)\n",
      "(7962, 5)\n"
     ]
    },
    {
     "data": {
      "text/plain": [
       "[None, None, None, None, None, None, None, None, None, None]"
      ]
     },
     "execution_count": 20,
     "metadata": {},
     "output_type": "execute_result"
    }
   ],
   "source": [
    "[print(d.shape) for d in DayNetworks]"
   ]
  },
  {
   "cell_type": "markdown",
   "metadata": {},
   "source": [
    "## network for all days"
   ]
  },
  {
   "cell_type": "code",
   "execution_count": 48,
   "metadata": {},
   "outputs": [
    {
     "name": "stdout",
     "output_type": "stream",
     "text": [
      "Name: \n",
      "Type: Graph\n",
      "Number of nodes: 62173\n",
      "Number of edges: 66919\n",
      "Average degree:   2.1527\n"
     ]
    }
   ],
   "source": [
    "T = nx.from_pandas_edgelist(relations, 'src', 'dst', ['time_ms'])\n",
    "T_GCC = max(nx.connected_component_subgraphs(T), key=len)\n",
    "print(nx.info(T_GCC))"
   ]
  },
  {
   "cell_type": "markdown",
   "metadata": {},
   "source": [
    "## This looks weird"
   ]
  },
  {
   "cell_type": "code",
   "execution_count": 49,
   "metadata": {},
   "outputs": [
    {
     "name": "stdout",
     "output_type": "stream",
     "text": [
      "Empirical Degree Distribution for network: \n"
     ]
    },
    {
     "data": {
      "image/png": "[encoded data removed]",
      "text/plain": [
       "<Figure size 1080x432 with 1 Axes>"
      ]
     },
     "metadata": {},
     "output_type": "display_data"
    }
   ],
   "source": [
    "print_degree_dist(T,0,1)"
   ]
  },
  {
   "cell_type": "markdown",
   "metadata": {},
   "source": [
    "# time network for each day"
   ]
  },
  {
   "cell_type": "code",
   "execution_count": 29,
   "metadata": {},
   "outputs": [],
   "source": [
    "G = [nx.from_pandas_edgelist(D, 'src', 'dst', ['time_ms']) for D in DayNetworks]"
   ]
  },
  {
   "cell_type": "code",
   "execution_count": 30,
   "metadata": {},
   "outputs": [],
   "source": [
    "G_GCC = [max(nx.connected_component_subgraphs(g), key=len) for g in G]"
   ]
  },
  {
   "cell_type": "code",
   "execution_count": 31,
   "metadata": {},
   "outputs": [
    {
     "name": "stdout",
     "output_type": "stream",
     "text": [
      "Name: \n",
      "Type: Graph\n",
      "Number of nodes: 2614\n",
      "Number of edges: 2713\n",
      "Average degree:   2.0757\n",
      "Name: \n",
      "Type: Graph\n",
      "Number of nodes: 4541\n",
      "Number of edges: 4657\n",
      "Average degree:   2.0511\n",
      "Name: \n",
      "Type: Graph\n",
      "Number of nodes: 6116\n",
      "Number of edges: 6212\n",
      "Average degree:   2.0314\n",
      "Name: \n",
      "Type: Graph\n",
      "Number of nodes: 8823\n",
      "Number of edges: 8933\n",
      "Average degree:   2.0249\n",
      "Name: \n",
      "Type: Graph\n",
      "Number of nodes: 9116\n",
      "Number of edges: 9220\n",
      "Average degree:   2.0228\n",
      "Name: \n",
      "Type: Graph\n",
      "Number of nodes: 12108\n",
      "Number of edges: 12308\n",
      "Average degree:   2.0330\n",
      "Name: \n",
      "Type: Graph\n",
      "Number of nodes: 10061\n",
      "Number of edges: 10132\n",
      "Average degree:   2.0141\n",
      "Name: \n",
      "Type: Graph\n",
      "Number of nodes: 8920\n",
      "Number of edges: 8948\n",
      "Average degree:   2.0063\n",
      "Name: \n",
      "Type: Graph\n",
      "Number of nodes: 3036\n",
      "Number of edges: 3094\n",
      "Average degree:   2.0382\n",
      "Name: \n",
      "Type: Graph\n",
      "Number of nodes: 6952\n",
      "Number of edges: 6972\n",
      "Average degree:   2.0058\n"
     ]
    },
    {
     "data": {
      "text/plain": [
       "[None, None, None, None, None, None, None, None, None, None]"
      ]
     },
     "execution_count": 31,
     "metadata": {},
     "output_type": "execute_result"
    }
   ],
   "source": [
    "[print(nx.info(g)) for g in G_GCC]"
   ]
  },
  {
   "cell_type": "code",
   "execution_count": 46,
   "metadata": {
    "scrolled": false
   },
   "outputs": [
    {
     "name": "stdout",
     "output_type": "stream",
     "text": [
      "Empirical Degree Distribution for network: \n"
     ]
    },
    {
     "data": {
      "image/png": "[encoded data removed]",
      "text/plain": [
       "<Figure size 1080x432 with 1 Axes>"
      ]
     },
     "metadata": {},
     "output_type": "display_data"
    },
    {
     "name": "stdout",
     "output_type": "stream",
     "text": [
      "Empirical Degree Distribution for network: \n"
     ]
    },
    {
     "data": {
      "image/png": "[encoded data removed]",
      "text/plain": [
       "<Figure size 1080x432 with 1 Axes>"
      ]
     },
     "metadata": {},
     "output_type": "display_data"
    },
    {
     "name": "stdout",
     "output_type": "stream",
     "text": [
      "Empirical Degree Distribution for network: \n"
     ]
    },
    {
     "data": {
      "image/png": "[encoded data removed]",
      "text/plain": [
       "<Figure size 1080x432 with 1 Axes>"
      ]
     },
     "metadata": {},
     "output_type": "display_data"
    },
    {
     "name": "stdout",
     "output_type": "stream",
     "text": [
      "Empirical Degree Distribution for network: \n"
     ]
    },
    {
     "data": {
      "image/png": "[encoded data removed]",
      "text/plain": [
       "<Figure size 1080x432 with 1 Axes>"
      ]
     },
     "metadata": {},
     "output_type": "display_data"
    },
    {
     "name": "stdout",
     "output_type": "stream",
     "text": [
      "Empirical Degree Distribution for network: \n"
     ]
    },
    {
     "data": {
      "image/png": "[encoded data removed]",
      "text/plain": [
       "<Figure size 1080x432 with 1 Axes>"
      ]
     },
     "metadata": {},
     "output_type": "display_data"
    },
    {
     "name": "stdout",
     "output_type": "stream",
     "text": [
      "Empirical Degree Distribution for network: \n"
     ]
    },
    {
     "data": {
      "image/png": "[encoded data removed]",
      "text/plain": [
       "<Figure size 1080x432 with 1 Axes>"
      ]
     },
     "metadata": {},
     "output_type": "display_data"
    },
    {
     "name": "stdout",
     "output_type": "stream",
     "text": [
      "Empirical Degree Distribution for network: \n"
     ]
    },
    {
     "data": {
      "image/png": "[encoded data removed]",
      "text/plain": [
       "<Figure size 1080x432 with 1 Axes>"
      ]
     },
     "metadata": {},
     "output_type": "display_data"
    },
    {
     "name": "stdout",
     "output_type": "stream",
     "text": [
      "Empirical Degree Distribution for network: \n"
     ]
    },
    {
     "data": {
      "image/png": "[encoded data removed]",
      "text/plain": [
       "<Figure size 1080x432 with 1 Axes>"
      ]
     },
     "metadata": {},
     "output_type": "display_data"
    },
    {
     "name": "stdout",
     "output_type": "stream",
     "text": [
      "Empirical Degree Distribution for network: \n"
     ]
    },
    {
     "data": {
      "image/png": "[encoded data removed]",
      "text/plain": [
       "<Figure size 1080x432 with 1 Axes>"
      ]
     },
     "metadata": {},
     "output_type": "display_data"
    },
    {
     "name": "stdout",
     "output_type": "stream",
     "text": [
      "Empirical Degree Distribution for network: \n"
     ]
    },
    {
     "data": {
      "image/png": "[encoded data removed]",
      "text/plain": [
       "<Figure size 1080x432 with 1 Axes>"
      ]
     },
     "metadata": {},
     "output_type": "display_data"
    },
    {
     "data": {
      "text/plain": [
       "[None, None, None, None, None, None, None, None, None, None]"
      ]
     },
     "execution_count": 46,
     "metadata": {},
     "output_type": "execute_result"
    }
   ],
   "source": [
    "[print_degree_dist(g,0,1) for g in G_GCC]"
   ]
  },
  {
   "cell_type": "code",
   "execution_count": null,
   "metadata": {},
   "outputs": [],
   "source": []
  }
 ],
 "metadata": {
  "kernelspec": {
   "display_name": "Python 3",
   "language": "python",
   "name": "python3"
  },
  "language_info": {
   "codemirror_mode": {
    "name": "ipython",
    "version": 3
   },
   "file_extension": ".py",
   "mimetype": "text/x-python",
   "name": "python",
   "nbconvert_exporter": "python",
   "pygments_lexer": "ipython3",
   "version": "3.7.1"
  }
 },
 "nbformat": 4,
 "nbformat_minor": 2
}
