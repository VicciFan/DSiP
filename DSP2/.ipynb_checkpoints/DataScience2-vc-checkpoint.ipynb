{
 "cells": [
  {
   "cell_type": "markdown",
   "metadata": {},
   "source": [
    "# Problem Set 2"
   ]
  },
  {
   "cell_type": "markdown",
   "metadata": {},
   "source": [
    "#### Imports and definition of helper fucntions such as plots"
   ]
  },
  {
   "cell_type": "code",
   "execution_count": 1,
   "metadata": {
    "scrolled": false
   },
   "outputs": [
    {
     "name": "stdout",
     "output_type": "stream",
     "text": [
      "Collecting pip\n",
      "\u001b[?25l  Downloading https://files.pythonhosted.org/packages/d8/f3/413bab4ff08e1fc4828dfc59996d721917df8e8583ea85385d51125dceff/pip-19.0.3-py2.py3-none-any.whl (1.4MB)\n",
      "\u001b[K    100% |████████████████████████████████| 1.4MB 6.6MB/s ta 0:00:011\n",
      "\u001b[?25hInstalling collected packages: pip\n",
      "  Found existing installation: pip 18.1\n",
      "    Uninstalling pip-18.1:\n",
      "      Successfully uninstalled pip-18.1\n",
      "Successfully installed pip-19.0.3\n",
      "Collecting python-louvain\n",
      "  Downloading https://files.pythonhosted.org/packages/96/b2/c74bb9023c8d4bf94f5049e3d705b3064c6f180a38d772055d20ba5a8d06/python-louvain-0.13.tar.gz\n",
      "Requirement already satisfied: networkx in /Users/genmur/anaconda3/lib/python3.6/site-packages (from python-louvain) (2.1)\n",
      "Requirement already satisfied: decorator>=4.1.0 in /Users/genmur/anaconda3/lib/python3.6/site-packages (from networkx->python-louvain) (4.3.0)\n",
      "Building wheels for collected packages: python-louvain\n",
      "  Building wheel for python-louvain (setup.py) ... \u001b[?25ldone\n",
      "\u001b[?25h  Stored in directory: /Users/genmur/Library/Caches/pip/wheels/f9/74/a9/14f051b00dddd46d71529db15507796da13a43ee2c0bc39def\n",
      "Successfully built python-louvain\n",
      "Installing collected packages: python-louvain\n",
      "Successfully installed python-louvain-0.13\n"
     ]
    }
   ],
   "source": [
    "!python -m pip install --upgrade pip\n",
    "!pip install python-louvain"
   ]
  },
  {
   "cell_type": "code",
   "execution_count": 2,
   "metadata": {
    "scrolled": true
   },
   "outputs": [
    {
     "name": "stdout",
     "output_type": "stream",
     "text": [
      "Collecting powerlaw\n",
      "  Downloading https://files.pythonhosted.org/packages/d5/4e/3ceab890fafff8e78a5fd7f5340c232c38b21d181fcd32d7a31079db3646/powerlaw-1.4.6.tar.gz\n",
      "Requirement already satisfied: scipy in /Users/genmur/anaconda3/lib/python3.6/site-packages (from powerlaw) (1.1.0)\n",
      "Requirement already satisfied: numpy in /Users/genmur/anaconda3/lib/python3.6/site-packages (from powerlaw) (1.14.3)\n",
      "Requirement already satisfied: matplotlib in /Users/genmur/anaconda3/lib/python3.6/site-packages (from powerlaw) (2.2.2)\n",
      "Requirement already satisfied: mpmath in /Users/genmur/anaconda3/lib/python3.6/site-packages (from powerlaw) (1.0.0)\n",
      "Requirement already satisfied: cycler>=0.10 in /Users/genmur/anaconda3/lib/python3.6/site-packages (from matplotlib->powerlaw) (0.10.0)\n",
      "Requirement already satisfied: pyparsing!=2.0.4,!=2.1.2,!=2.1.6,>=2.0.1 in /Users/genmur/anaconda3/lib/python3.6/site-packages (from matplotlib->powerlaw) (2.2.0)\n",
      "Requirement already satisfied: python-dateutil>=2.1 in /Users/genmur/anaconda3/lib/python3.6/site-packages (from matplotlib->powerlaw) (2.7.3)\n",
      "Requirement already satisfied: pytz in /Users/genmur/anaconda3/lib/python3.6/site-packages (from matplotlib->powerlaw) (2018.4)\n",
      "Requirement already satisfied: six>=1.10 in /Users/genmur/anaconda3/lib/python3.6/site-packages (from matplotlib->powerlaw) (1.11.0)\n",
      "Requirement already satisfied: kiwisolver>=1.0.1 in /Users/genmur/anaconda3/lib/python3.6/site-packages (from matplotlib->powerlaw) (1.0.1)\n",
      "Requirement already satisfied: setuptools in /Users/genmur/anaconda3/lib/python3.6/site-packages (from kiwisolver>=1.0.1->matplotlib->powerlaw) (39.1.0)\n",
      "Building wheels for collected packages: powerlaw\n",
      "  Building wheel for powerlaw (setup.py) ... \u001b[?25ldone\n",
      "\u001b[?25h  Stored in directory: /Users/genmur/Library/Caches/pip/wheels/e0/27/02/08d0e2865072bfd8d7c655e290521e3feca3fc22f1ac460601\n",
      "Successfully built powerlaw\n",
      "Installing collected packages: powerlaw\n",
      "Successfully installed powerlaw-1.4.6\n"
     ]
    }
   ],
   "source": [
    "!pip install powerlaw"
   ]
  },
  {
   "cell_type": "code",
   "execution_count": 3,
   "metadata": {},
   "outputs": [],
   "source": [
    "import sys\n",
    "import numpy as np\n",
    "import pandas as pd\n",
    "import seaborn as sns\n",
    "import networkx as nx\n",
    "from networkx.algorithms.community import k_clique_communities\n",
    "import community as community\n",
    "import matplotlib.pyplot as plt\n",
    "from matplotlib import cm\n",
    "from matplotlib.colors import ListedColormap, LinearSegmentedColormap\n",
    "import collections\n",
    "import operator\n",
    "import powerlaw as pl\n",
    "from multiprocessing import Pool\n",
    "import scipy.sparse as sp\n",
    "import itertools\n",
    "import pprint\n",
    "import matplotlib.style as style \n",
    "import random, time\n",
    "from matplotlib.colors import rgb2hex\n",
    "import io\n",
    "sns.set()\n",
    "style.use('Solarize_Light2')\n",
    "sns.set_style(\"whitegrid\")\n"
   ]
  },
  {
   "cell_type": "code",
   "execution_count": 4,
   "metadata": {},
   "outputs": [],
   "source": [
    "def nx_hist(x, bins, normed = False, xscale = 'linear', yscale = 'linear', use_log = False, title = None, xlabel = 'Degree', ylabel = 'Count'): \n",
    "    density = None\n",
    "    if(normed):\n",
    "        density = 1\n",
    "        ylabel = 'Probability'\n",
    "    fig = plt.figure(figsize=(15,6))\n",
    "    plt.hist(x, bins=bins, normed=density, log=use_log)\n",
    "    plt.xlabel(xlabel)\n",
    "    plt.ylabel(ylabel)\n",
    "    #plt.xscale(yscale)\n",
    "    plt.yscale(yscale)\n",
    "    plt.title(title)\n",
    "    plt.grid(True)\n",
    "    plt.show()\n",
    "    \n",
    "def print_in_degree_dist(G):\n",
    "    degree_sequence = sorted([d for n, d in G.in_degree()], reverse=True)  # degree sequence\n",
    "    degreeCount = collections.Counter(degree_sequence) # degree count\n",
    "    print(\"Empirical Degree Distribution for network: \"+G.name)\n",
    "    nx_hist(degree_sequence,len(degreeCount))\n",
    "    nx_hist(degree_sequence,len(degreeCount),yscale='log')  \n",
    "   # nx_hist(degree_sequence,len(degreeCount),yscale='log',use_log=True) \n",
    "    \n",
    "def print_out_degree_dist(G):\n",
    "    degree_sequence = sorted([d for n, d in G.out_degree()], reverse=True)  # degree sequence\n",
    "    degreeCount = collections.Counter(degree_sequence) # degree count\n",
    "    print(\"Empirical Degree Distribution for network: \"+G.name)\n",
    "    nx_hist(degree_sequence,len(degreeCount))\n",
    "    nx_hist(degree_sequence,len(degreeCount),yscale='log') \n",
    "    #nx_hist(degree_sequence,len(degreeCount),yscale='log',use_log=True) \n",
    "    \n",
    "def print_degree_dist(G):\n",
    "    degree_sequence = sorted([d for n, d in G.degree()], reverse=True)  # degree sequence\n",
    "    degreeCount = collections.Counter(degree_sequence) # degree count\n",
    "    print(\"Empirical Degree Distribution for network: \"+G.name)\n",
    "    nx_hist(degree_sequence,len(degreeCount))\n",
    "    nx_hist(degree_sequence,len(degreeCount),yscale='log') \n",
    "    #nx_hist(degree_sequence,len(degreeCount),yscale='log',use_log=True) \n",
    "\n",
    "def plot_centrality(x,y,xlabel,ylabel,xmin,ymin,xmax,ymax):\n",
    "    plt.figure(figsize=(15,9))\n",
    "    plt.scatter(np.array(list(x.values())),np.array(list(y.values())))\n",
    "    plt.xlim(xmin,xmax)\n",
    "    #plt.ylim(ymin,ymax)\n",
    "    plt.xlabel(xlabel)\n",
    "    plt.ylabel(ylabel)\n",
    "    plt.title(\"Centrality Comparison for the selected Measures\")\n",
    "    plt.show()\n",
    "    \n",
    "def cc_cdf(cc_dict):\n",
    "    plt.figure(figsize=(15,10))\n",
    "    plt.plot(sorted(cc_dict.values()),np.arange(0,len(cc_dict))/len(cc_dict))\n",
    "    plt.xlabel(\"Local Clustering Coefficient (c)\")\n",
    "    plt.ylabel(\"P(x<=c)\")\n",
    "    plt.title(\"Empirical Clustering Coefficient CDF\")\n",
    "    plt.show()\n",
    "    return\n",
    "\n",
    "def w_degree_centrality(G):\n",
    "    keys = list(nx.get_edge_attributes(G,'weight').keys())\n",
    "    tot = np.array(list(nx.get_edge_attributes(G,'weight').values())).sum()\n",
    "    vals = list(np.array(list(dict(G.degree(weight='weight')).values())/tot))\n",
    "    return dict(zip(keys, vals))\n",
    "    \n",
    "def in_degree_centrality(G,weights):\n",
    "    values_list = list(G.edges.data(weights))\n",
    "    val_num = np.array([values_list[i][2] for i in range(9651)])\n",
    "    vals = list(np.array(list(dict(G.in_degree(weight=weights)).values()))/np.sum(val_num))\n",
    "    keys = list(idc_G.keys())\n",
    "    return dict(zip(keys, vals))\n",
    "\n",
    "def out_degree_centrality(G,weights):\n",
    "    values_list = list(G.edges.data(weights))\n",
    "    val_num = np.array([values_list[i][2] for i in range(9651)])\n",
    "    vals = list(np.array(list(dict(G.out_degree(weight=weights)).values()))/np.sum(val_num))\n",
    "    keys = list(idc_G.keys())\n",
    "    return dict(zip(keys, vals))\n",
    "\n",
    "def print_node_data(G,max):\n",
    "    i = 0\n",
    "    for n, d in G.nodes(data=True):\n",
    "        if i < max:\n",
    "            print(n,d)\n",
    "        i = i + 1\n",
    "    return\n",
    "\n",
    "def ret_nodelist(DM_G,G_GCC,N):\n",
    "\n",
    "    G_GCC_degs = dict(sorted(G_GCC.degree, key=lambda x: x[1], reverse=True))\n",
    "    G_GCC_min_degs = dict([(key, value) for key,value in G_GCC_degs.items() if (value == 1)])\n",
    "    \n",
    "    #G_GCC_top10_names = [key for key, value in G_GCC_degs.items()][0:N]\n",
    "    #G_GCC_top10 = [value for key, value in G_GCC_degs.items()][0:N]\n",
    "    \n",
    "    print(\"Top 10 highest degree nodes and values:\")\n",
    "    i = 0\n",
    "    for k, v in G_GCC_degs.items():\n",
    "        if i < N:\n",
    "            print(k,v)\n",
    "        i = i + 1\n",
    "    #return [G_GCC_top10_names, G_GCC_top10]"
   ]
  },
  {
   "cell_type": "code",
   "execution_count": 5,
   "metadata": {},
   "outputs": [],
   "source": [
    "G = nx.read_edgelist('SMS-network.txt')"
   ]
  },
  {
   "cell_type": "markdown",
   "metadata": {},
   "source": [
    "#### Basic Network statistics and degree distribution"
   ]
  },
  {
   "cell_type": "code",
   "execution_count": 6,
   "metadata": {},
   "outputs": [
    {
     "name": "stdout",
     "output_type": "stream",
     "text": [
      "Name: \n",
      "Type: Graph\n",
      "Number of nodes: 4039\n",
      "Number of edges: 88234\n",
      "Average degree:  43.6910\n"
     ]
    }
   ],
   "source": [
    "print(nx.info(G))"
   ]
  },
  {
   "cell_type": "code",
   "execution_count": 7,
   "metadata": {},
   "outputs": [],
   "source": [
    "G_GCC = max(nx.connected_component_subgraphs(G), key=len)\n",
    "#G_game_GCC = max(nx.connected_component_subgraphs(G_game), key=len)\n",
    "#G_game_uw_GCC = max(nx.connected_component_subgraphs(G_game_uw), key=len)\n",
    "#nx.set_node_attributes(G_game_uw_GCC,cat_dict)"
   ]
  },
  {
   "cell_type": "code",
   "execution_count": 8,
   "metadata": {},
   "outputs": [
    {
     "name": "stdout",
     "output_type": "stream",
     "text": [
      "Name: \n",
      "Type: Graph\n",
      "Number of nodes: 4039\n",
      "Number of edges: 88234\n",
      "Average degree:  43.6910\n",
      "Empirical Degree Distribution for network: \n"
     ]
    },
    {
     "data": {
      "image/png": "[encoded data removed]",
      "text/plain": [
       "<Figure size 1080x432 with 1 Axes>"
      ]
     },
     "metadata": {},
     "output_type": "display_data"
    },
    {
     "data": {
      "image/png": "[encoded data removed]",
      "text/plain": [
       "<Figure size 1080x432 with 1 Axes>"
      ]
     },
     "metadata": {},
     "output_type": "display_data"
    }
   ],
   "source": [
    "print(nx.info(G_GCC))\n",
    "print_degree_dist(G_GCC)"
   ]
  },
  {
   "cell_type": "code",
   "execution_count": 9,
   "metadata": {
    "scrolled": false
   },
   "outputs": [],
   "source": [
    "def calculate_powerlaw(G_GCC):\n",
    "    G_deg = sorted([d for n, d in G_GCC.degree()], reverse=True)\n",
    "    print('{:^30}\\t{:^7}'.format('Minimum number of neighbors:', G_deg[0]))\n",
    "    print('{:^30}\\t{:^7}'.format('Maximum number of neighbors:', G_deg[-1]))\n",
    "    print('{:^30}\\t{:^7.3f}'.format('Mean number of neighbors:', sum(G_deg)/len(G_deg)))\n",
    "\n",
    "    fit_G = pl.Fit(G_deg)\n",
    "\n",
    "    print(\"Power Law vs Exponential:\")\n",
    "    R, p = fit_G.distribution_compare('power_law', 'exponential')\n",
    "    print('R = {:.5f}'.format(R))\n",
    "    print('p = {:.5f}'.format(p))\n",
    "\n",
    "    print(\"Power Law vs Lognormal:\")\n",
    "    R, p = fit_G.distribution_compare('power_law', 'lognormal')\n",
    "    print('R = {:.5f}'.format(R))\n",
    "    print('p = {:.5f}'.format(p))\n",
    "\n",
    "    print(\"Lognormal vs Exponential:\")\n",
    "    R, p = fit_G.distribution_compare('lognormal_positive', 'exponential')\n",
    "    print('R = {:.5f}'.format(R))\n",
    "    print('p = {:.5f}'.format(p))\n",
    "\n",
    "    plt.figure(figsize=(15,9))\n",
    "    fig = fit_G.plot_ccdf(linewidth=2, label='Empirical CCDF')\n",
    "    fit_G.power_law.plot_ccdf(linestyle='--',ax=fig, label='Fitted Powerlaw CCDF')\n",
    "    fit_G.lognormal_positive.plot_ccdf(linestyle='--',ax=fig, label='Fitted Lognormal CCDF')\n",
    "    plt.xlabel(\"Probability\")\n",
    "    plt.ylabel(\"Number of Neighbors\")\n",
    "    plt.legend()\n",
    "    plt.show()\n",
    "\n",
    "    print('Fitted parameter alpha of the power law distribution: {:.3f}'.format(fit_G.power_law.alpha))\n",
    "    print('Standard error of alpha: {:.3f}'.format(fit_G.power_law.sigma))"
   ]
  },
  {
   "cell_type": "code",
   "execution_count": 10,
   "metadata": {},
   "outputs": [
    {
     "name": "stdout",
     "output_type": "stream",
     "text": [
      " Minimum number of neighbors: \t 1045  \n",
      " Maximum number of neighbors: \t   1   \n",
      "  Mean number of neighbors:   \t43.691 \n",
      "Power Law vs Exponential:\n",
      "R = 23.37320\n",
      "p = 0.06533\n",
      "Power Law vs Lognormal:\n"
     ]
    },
    {
     "name": "stderr",
     "output_type": "stream",
     "text": [
      "Calculating best minimal value for power law fit\n",
      "/Users/genmur/anaconda3/lib/python3.6/site-packages/powerlaw.py:700: RuntimeWarning: invalid value encountered in true_divide\n",
      "  (Theoretical_CDF * (1 - Theoretical_CDF))\n",
      "/Users/genmur/anaconda3/lib/python3.6/site-packages/powerlaw.py:1605: RuntimeWarning: invalid value encountered in true_divide\n",
      "  CDF = CDF/norm\n",
      "'nan' in fit cumulative distribution values.\n",
      "Likely underflow or overflow error: the optimal fit for this distribution gives values that are so extreme that we lack the numerical precision to calculate them.\n"
     ]
    },
    {
     "name": "stdout",
     "output_type": "stream",
     "text": [
      "R = -0.92839\n",
      "p = 0.18551\n",
      "Lognormal vs Exponential:\n",
      "R = 21.77665\n",
      "p = 0.05531\n"
     ]
    },
    {
     "data": {
      "image/png": "[encoded data removed]",
      "text/plain": [
       "<Figure size 1080x648 with 1 Axes>"
      ]
     },
     "metadata": {},
     "output_type": "display_data"
    },
    {
     "name": "stdout",
     "output_type": "stream",
     "text": [
      "Fitted parameter alpha of the power law distribution: 5.993\n",
      "Standard error of alpha: 0.351\n"
     ]
    }
   ],
   "source": [
    "calculate_powerlaw(G_GCC)"
   ]
  },
  {
   "cell_type": "markdown",
   "metadata": {},
   "source": [
    "Exponential, Lognormal, and powerlaw distributions were compared through distribution distance. The best fit for the network would appear to be a lognormal distribution, but as we can see the powerlaw distribution is close enough to the true TCDF (and indeed the R coefficient is only 0.59 in favor of the lognormal) to asset that the network follows a power law distribution.\n",
    "\n",
    "This implies that the network does exhibit some scale free properties, which is relatively expected of networks of this type where their embedding is extremely high dimensional, and no prior structural constraints other than the network topology are placed: users can freely navigate from any page to any other page."
   ]
  },
  {
   "cell_type": "markdown",
   "metadata": {},
   "source": [
    "#### Clustering and Other Network Figures"
   ]
  },
  {
   "cell_type": "code",
   "execution_count": 11,
   "metadata": {},
   "outputs": [],
   "source": [
    "def calculate_clustering(G_GCC):\n",
    "    clust_G = nx.clustering(G_GCC) #network clustering coeff for all nodes\n",
    "    C_G = float(sum(clust_G.values())/len(clust_G)) #average clustering coefficient\n",
    "    T_G = nx.transitivity(G_GCC) #transitivity\n",
    "    D_G = nx.density(G_GCC) #density\n",
    "    cc_cdf(clust_G) #clustering coefficient cdf\n",
    "    print(\"Average Clustering:\",C_G)\n",
    "    print(\"Overall Clustering (Transitivity):\",T_G)\n",
    "    print(\"Network Density\",D_G)\n",
    "    print(\"Avg Clustering to Density Ratio:\",C_G/D_G)\n",
    "    \n",
    "    df = pd.DataFrame(columns=['Density','Overall clust','Average clust','Avg Clustering to Density Ratio'])\n",
    "    df = df.append({'Density':D_G,'Overall clust': T_G, 'Average clust': C_G,'Avg Clustering to Density Ratio' : C_G/D_G }, ignore_index=True)\n",
    "    return df"
   ]
  },
  {
   "cell_type": "code",
   "execution_count": 12,
   "metadata": {
    "scrolled": false
   },
   "outputs": [
    {
     "data": {
      "image/png": "[encoded data removed]",
      "text/plain": [
       "<Figure size 1080x720 with 1 Axes>"
      ]
     },
     "metadata": {},
     "output_type": "display_data"
    },
    {
     "name": "stdout",
     "output_type": "stream",
     "text": [
      "Average Clustering: 0.6055467186200865\n",
      "Overall Clustering (Transitivity): 0.5191742775433075\n",
      "Network Density 0.010819963503439287\n",
      "Avg Clustering to Density Ratio: 55.96568957257614\n"
     ]
    },
    {
     "data": {
      "text/html": [
       "<div>\n",
       "<style scoped>\n",
       "    .dataframe tbody tr th:only-of-type {\n",
       "        vertical-align: middle;\n",
       "    }\n",
       "\n",
       "    .dataframe tbody tr th {\n",
       "        vertical-align: top;\n",
       "    }\n",
       "\n",
       "    .dataframe thead th {\n",
       "        text-align: right;\n",
       "    }\n",
       "</style>\n",
       "<table border=\"1\" class=\"dataframe\">\n",
       "  <thead>\n",
       "    <tr style=\"text-align: right;\">\n",
       "      <th></th>\n",
       "      <th>Density</th>\n",
       "      <th>Overall clust</th>\n",
       "      <th>Average clust</th>\n",
       "      <th>Avg Clustering to Density Ratio</th>\n",
       "    </tr>\n",
       "  </thead>\n",
       "  <tbody>\n",
       "    <tr>\n",
       "      <th>0</th>\n",
       "      <td>0.01082</td>\n",
       "      <td>0.519174</td>\n",
       "      <td>0.605547</td>\n",
       "      <td>55.96569</td>\n",
       "    </tr>\n",
       "  </tbody>\n",
       "</table>\n",
       "</div>"
      ],
      "text/plain": [
       "   Density  Overall clust  Average clust  Avg Clustering to Density Ratio\n",
       "0  0.01082       0.519174       0.605547                         55.96569"
      ]
     },
     "metadata": {},
     "output_type": "display_data"
    }
   ],
   "source": [
    "df = calculate_clustering(G_GCC)\n",
    "display(df)"
   ]
  },
  {
   "cell_type": "markdown",
   "metadata": {},
   "source": [
    "As can be seen from the table, the network is sparse: the density is 0.01 << 1. However, the network does seem to exhibit a high clustering property in that the average clustering is 55 times the density (where the density corresponds to the would-be average clustering if the network were randomly generated).\n",
    "\n",
    "Given that the CDF tails off towards the end, this implies that the nodes in the network have a rather wide range of clustering coefficients, which given the context is relatively unsurprising."
   ]
  },
  {
   "cell_type": "markdown",
   "metadata": {},
   "source": [
    "Note: The Floyd Warshall Matrix takes a LONG time to compute (i7 8700k overclocked), and weighs 500mb approximately. Loading it in compressed is a whole other deal."
   ]
  },
  {
   "cell_type": "code",
   "execution_count": 13,
   "metadata": {},
   "outputs": [],
   "source": [
    "def calculate_distances(G_GCC,flag,filename):\n",
    "    if flag:\n",
    "        DM_G = nx.floyd_warshall_numpy(G_GCC)\n",
    "        np.savez_compressed(filename, DM_G.astype(int))\n",
    "    else:\n",
    "        with np.load(filename) as data:\n",
    "            DM_G = data['arr_0']\n",
    "    dia_G = np.max(DM_G) # network diameter\n",
    "    avg_spl_G = np.sum(DM_G)/(len(G_GCC.nodes)*(len(G_GCC.nodes)-1)) #avg shortest path length\n",
    "    print(\"Diameter:\",dia_G)\n",
    "    print(\"Average Shortest Path Length:\",avg_spl_G)\n",
    "    \n",
    "    df = pd.DataFrame(columns=['Diameter','Average Shortest Path Length'])\n",
    "    df = df.append({'Diameter':dia_G,'Average Shortest Path Length': avg_spl_G,}, ignore_index=True)\n",
    "    display(df)\n",
    "    return DM_G"
   ]
  },
  {
   "cell_type": "code",
   "execution_count": 14,
   "metadata": {
    "scrolled": false
   },
   "outputs": [
    {
     "name": "stdout",
     "output_type": "stream",
     "text": [
      "Diameter: 8\n",
      "Average Shortest Path Length: 3.6925068496963913\n"
     ]
    },
    {
     "data": {
      "text/html": [
       "<div>\n",
       "<style scoped>\n",
       "    .dataframe tbody tr th:only-of-type {\n",
       "        vertical-align: middle;\n",
       "    }\n",
       "\n",
       "    .dataframe tbody tr th {\n",
       "        vertical-align: top;\n",
       "    }\n",
       "\n",
       "    .dataframe thead th {\n",
       "        text-align: right;\n",
       "    }\n",
       "</style>\n",
       "<table border=\"1\" class=\"dataframe\">\n",
       "  <thead>\n",
       "    <tr style=\"text-align: right;\">\n",
       "      <th></th>\n",
       "      <th>Diameter</th>\n",
       "      <th>Average Shortest Path Length</th>\n",
       "    </tr>\n",
       "  </thead>\n",
       "  <tbody>\n",
       "    <tr>\n",
       "      <th>0</th>\n",
       "      <td>8.0</td>\n",
       "      <td>3.692507</td>\n",
       "    </tr>\n",
       "  </tbody>\n",
       "</table>\n",
       "</div>"
      ],
      "text/plain": [
       "   Diameter  Average Shortest Path Length\n",
       "0       8.0                      3.692507"
      ]
     },
     "metadata": {},
     "output_type": "display_data"
    }
   ],
   "source": [
    "DM_G = calculate_distances(G_GCC,0,'dm_mat.npz') "
   ]
  },
  {
   "cell_type": "code",
   "execution_count": 15,
   "metadata": {},
   "outputs": [
    {
     "name": "stdout",
     "output_type": "stream",
     "text": [
      "Top 10 highest degree nodes and values:\n",
      "107 1045\n",
      "1684 792\n",
      "1912 755\n",
      "3437 547\n",
      "0 347\n",
      "2543 294\n",
      "2347 291\n",
      "1888 254\n",
      "1800 245\n",
      "1663 235\n"
     ]
    }
   ],
   "source": [
    "ret_nodelist(DM_G,G_GCC,10)"
   ]
  },
  {
   "cell_type": "markdown",
   "metadata": {},
   "source": [
    "# 3. Centrality Measures"
   ]
  },
  {
   "cell_type": "code",
   "execution_count": 16,
   "metadata": {},
   "outputs": [],
   "source": [
    "def print_top_10(D,G): #where G is the graph and D is the centrality measure dict\n",
    "    df = pd.DataFrame(columns=['Node ID','Centrality Score'])\n",
    "    #nodeDict = dict(G.nodes(data=True))\n",
    "    D_sorted = dict(sorted(D.items(), key=operator.itemgetter(1), reverse=True))\n",
    "    D_list = list(D_sorted)\n",
    "    L = D_list[0:10]\n",
    "    #top_10_dict = {k:nodeDict[k] for k in L if k in nodeDict}\n",
    "    top_10_vals = np.array(list(D_sorted.values())[:10])\n",
    "    \n",
    "    #print(top_10_dict)\n",
    "    i = 0\n",
    "    for l in L:        \n",
    "        df = df.append({'Node ID': l, 'Centrality Score':top_10_vals[i]}, ignore_index=True)\n",
    "        i = i+1\n",
    "    display(df)"
   ]
  },
  {
   "cell_type": "code",
   "execution_count": 17,
   "metadata": {},
   "outputs": [],
   "source": [
    "def store_top_200(D,G):\n",
    "    df = pd.DataFrame(columns=['Node ID','Centrality Score'])\n",
    "    D_sorted = dict(sorted(D.items(), key=operator.itemgetter(1), reverse=True))\n",
    "    D_list = list(D_sorted)\n",
    "    \n",
    "    S_top200 = D_list[0:200] \n",
    "    S_top200_value = np.array(list(D_sorted.values())[:200])\n",
    "    \n",
    "    i = 0\n",
    "    for l in S_top200:        \n",
    "        df = df.append({'Node ID': l, 'Centrality Score':S_top200_value[i]}, ignore_index=True)\n",
    "        i = i+1\n",
    "    return df"
   ]
  },
  {
   "cell_type": "code",
   "execution_count": 18,
   "metadata": {},
   "outputs": [],
   "source": [
    "#Networkx: Parallel Implementation of Betweenness Centrality\n",
    "def chunks(l, n):\n",
    "    \"\"\"Divide a list of nodes `l` in `n` chunks\"\"\"\n",
    "    l_c = iter(l)\n",
    "    while 1:\n",
    "        x = tuple(itertools.islice(l_c, n))\n",
    "        if not x:\n",
    "            return\n",
    "        yield x\n",
    "\n",
    "\n",
    "def _betmap(G_normalized_weight_sources_tuple):\n",
    "    \"\"\"Pool for multiprocess only accepts functions with one argument.\n",
    "    This function uses a tuple as its only argument. We use a named tuple for\n",
    "    python 3 compatibility, and then unpack it when we send it to\n",
    "    `betweenness_centrality_source`\n",
    "    \"\"\"\n",
    "    return nx.betweenness_centrality_source(*G_normalized_weight_sources_tuple)\n",
    "\n",
    "\n",
    "def betweenness_centrality_parallel(G, processes=None):\n",
    "    \"\"\"Parallel betweenness centrality  function\"\"\"\n",
    "    p = Pool(processes=processes)\n",
    "    node_divisor = len(p._pool) * 4\n",
    "    node_chunks = list(chunks(G.nodes(), int(G.order() / node_divisor)))\n",
    "    num_chunks = len(node_chunks)\n",
    "    bt_sc = p.map(_betmap,\n",
    "                  zip([G] * num_chunks,\n",
    "                      [True] * num_chunks,\n",
    "                      [None] * num_chunks,\n",
    "                      node_chunks))\n",
    "\n",
    "    # Reduce the partial solutions\n",
    "    bt_c = bt_sc[0]\n",
    "    for bt in bt_sc[1:]:\n",
    "        for n in bt:\n",
    "            bt_c[n] += bt[n]\n",
    "    return bt_c"
   ]
  },
  {
   "cell_type": "code",
   "execution_count": null,
   "metadata": {},
   "outputs": [],
   "source": [
    "bc_G = betweenness_centrality_parallel(G_GCC)"
   ]
  },
  {
   "cell_type": "code",
   "execution_count": null,
   "metadata": {},
   "outputs": [],
   "source": [
    "dc_G = nx.degree_centrality(G_GCC)\n",
    "pr_G = nx.pagerank(G_GCC)"
   ]
  },
  {
   "cell_type": "code",
   "execution_count": null,
   "metadata": {},
   "outputs": [],
   "source": [
    "ev_G = nx.eigenvector_centrality_numpy(G_GCC)\n",
    "katz_G = nx.katz_centrality_numpy(G_GCC)"
   ]
  },
  {
   "cell_type": "code",
   "execution_count": null,
   "metadata": {},
   "outputs": [],
   "source": [
    "cc_G = nx.closeness_centrality(G_GCC)"
   ]
  },
  {
   "cell_type": "code",
   "execution_count": null,
   "metadata": {
    "scrolled": false
   },
   "outputs": [],
   "source": [
    "print(\"Degree vs Unweighted Centralities:\")\n",
    "plot_centrality(dc_G,bc_G,\"Degree Centrality\",\"Betweenness Centrality\",0,0,0.4,0.02)\n",
    "plot_centrality(dc_G,pr_G,\"Degree Centrality\",\"Pagerank\",0,0,0.4,0.02)\n",
    "plot_centrality(dc_G,ev_G,\"Degree Centrality\",\"Eigenvector Centrality\",0,0,0.4,0.02)\n",
    "plot_centrality(dc_G,katz_G,\"Degree Centrality\",\"Katz Centrality\",0,0,0.4,0.02)"
   ]
  },
  {
   "cell_type": "code",
   "execution_count": null,
   "metadata": {},
   "outputs": [],
   "source": [
    "print(\"Centralitiy Comparison:\")\n",
    "plot_centrality(bc_G,pr_G,\"Betweenness Centrality\",\"Pagerank\",0,0,0.05,0.02)\n",
    "plot_centrality(pr_G,ev_G,\"Pagerank\",\"Eignenvector Centrality\",0,0,0.01,0.02)\n",
    "plot_centrality(pr_G,katz_G,\"Pagerank\",\"Katz Centrality\",0,0,0.008,0.02)"
   ]
  },
  {
   "cell_type": "markdown",
   "metadata": {},
   "source": [
    "As shown above, except for katz, measures agree with each other in a propotional manner."
   ]
  },
  {
   "cell_type": "code",
   "execution_count": null,
   "metadata": {
    "scrolled": true
   },
   "outputs": [],
   "source": [
    "print(\"Closeness Centrality:\")\n",
    "plot_centrality(dc_G,cc_G,\"Degree Centrality\",\"Closeness Centrality\",0,0,0.5,0.02)\n",
    "plot_centrality(bc_G,cc_G,\"Betweeness Centrality\",\"Closeness Centrality\",0,0,0.06,0.02)"
   ]
  },
  {
   "cell_type": "markdown",
   "metadata": {},
   "source": [
    "In the plots above, relating both degree and betweenness centrality to closeness centrality we get a more skewed linear relationship, with closeness attributing value to some nodes where betweenness and degree give very little. One could intepret this as, in the overall sense, there being some relationship between the number of shortest paths going through a node being proportional to the inverse of the distance of those shortest paths, in other words, how effective a player is in getting from source to sink is ultimately dependent on how much a given node acts as a hub (how many links to other pages a given article has, and how common of a topic is that article about). "
   ]
  },
  {
   "cell_type": "markdown",
   "metadata": {},
   "source": [
    "#### Print top 10 entries according to measures"
   ]
  },
  {
   "cell_type": "code",
   "execution_count": null,
   "metadata": {
    "scrolled": true
   },
   "outputs": [],
   "source": [
    "print(\"Degree Centrality\")\n",
    "print_top_10(dc_G,G_GCC)\n",
    "S_dc=store_top_200(dc_G,G_GCC)\n",
    "print(S_dc)\n",
    "\n",
    "print(\"Closeness Centrality\")\n",
    "print_top_10(cc_G,G_GCC)\n",
    "S_cc=store_top_200(cc_G,G_GCC)\n",
    "print(S_cc)\n",
    "\n",
    "print(\"Betweenness Centrality\")\n",
    "print_top_10(bc_G,G_GCC)\n",
    "S_bc=store_top_200(bc_G,G_GCC)\n",
    "print(S_bc)\n",
    "\n",
    "print(\"Page Rank\")\n",
    "print_top_10(pr_G,G_GCC)\n",
    "S_pr=store_top_200(pr_G,G_GCC)\n",
    "print(S_pr)\n",
    "\n",
    "print(\"Eigenvector Centrality\")\n",
    "print_top_10(ev_G,G_GCC)\n",
    "S_ev=store_top_200(ev_G,G_GCC)\n",
    "print(S_ev)\n",
    "\n",
    "print(\"Katz Centrality\")\n",
    "print_top_10(katz_G,G_GCC)\n",
    "S_katz=store_top_200(katz_G,G_GCC)\n",
    "print(S_katz)\n",
    "\n",
    "#S_xx stores the possible targets"
   ]
  },
  {
   "cell_type": "markdown",
   "metadata": {},
   "source": [
    "As can be seen in these tables, except for katz centrality all measures agree on what one would intuitively attribute as important nodes: the nodes with the highest degree correspond to the ones with the highest centrality scores which correspond to the nodes most commonly known to the majority of the player base."
   ]
  },
  {
   "cell_type": "markdown",
   "metadata": {},
   "source": [
    "#### Degree correlation over Focus Categories"
   ]
  },
  {
   "cell_type": "code",
   "execution_count": null,
   "metadata": {
    "scrolled": true
   },
   "outputs": [],
   "source": [
    "print(\"\\nOverall Correlation Coefficient:\",np.round(nx.degree_pearson_correlation_coefficient(G_GCC),3))"
   ]
  },
  {
   "cell_type": "markdown",
   "metadata": {},
   "source": [
    "# 5. Community Detection"
   ]
  },
  {
   "cell_type": "markdown",
   "metadata": {},
   "source": [
    "In this section the Louvain algorthim is used in order to detect communities. The random seed parameter had to be fixed as the algorithm's stochastic component would sometimes generate and extra (or a couple extra) communities with a very small number of nodes, which is nonsensical. The resolution parameter was also adjusted as a result of this section's analysis, to ensure that communities were balanced in relative terms. This is not due to wanting to induce some prior belief on the number of communities, but rather that when the algorthm's output resulted in a pair communities with identical composition half the size of all the others there was no need to consider them as individual communities.\n",
    "\n",
    "As anticipated, this section is primarily intended to compare and contrast with the hard-generated grouping based on wikipedia categories analyzed in section 4."
   ]
  },
  {
   "cell_type": "code",
   "execution_count": null,
   "metadata": {},
   "outputs": [],
   "source": [
    "# NOT IMPLEMENTED - TOO SLOW\n",
    "#list_clique_communities = list(k_clique_communities(G2_GCC, k=15))\n",
    "#list_clique_communities"
   ]
  },
  {
   "cell_type": "code",
   "execution_count": null,
   "metadata": {},
   "outputs": [],
   "source": [
    "np.random.seed(5000)"
   ]
  },
  {
   "cell_type": "code",
   "execution_count": null,
   "metadata": {},
   "outputs": [],
   "source": [
    "#nx.greedy_modularity_communities(G_GCC, weight=None)"
   ]
  },
  {
   "cell_type": "code",
   "execution_count": null,
   "metadata": {},
   "outputs": [],
   "source": [
    "partition = community.best_partition(G_GCC, resolution=1.2,  random_state=5000)\n",
    "labels = set(partition.values())\n",
    "community_counts = {i: list(partition.values()).count(i) for i in labels}\n",
    "community_counts"
   ]
  },
  {
   "cell_type": "code",
   "execution_count": null,
   "metadata": {},
   "outputs": [],
   "source": [
    "#print(partition)"
   ]
  },
  {
   "cell_type": "markdown",
   "metadata": {},
   "source": [
    "For the given parameterization, the algorithm finds six communities of approximately equal size. The contents of these shall be examined below."
   ]
  },
  {
   "cell_type": "code",
   "execution_count": null,
   "metadata": {},
   "outputs": [],
   "source": [
    "T = []\n",
    "for i in range(len(labels)):    \n",
    "    c = [nodes for nodes in partition.keys() if partition[nodes] == i]\n",
    "    T.append(G_GCC.subgraph(c))"
   ]
  },
  {
   "cell_type": "code",
   "execution_count": null,
   "metadata": {},
   "outputs": [],
   "source": [
    "corr_list2 =[nx.degree_pearson_correlation_coefficient(T[l]) for l in range(len(T))]\n",
    "a = [print('Community:',l,'has correlation coefficient:',corr_list2[l]) for l in range(len(corr_list2))]"
   ]
  },
  {
   "cell_type": "markdown",
   "metadata": {},
   "source": [
    "#### Community Layout Plot and Induced Community Graph"
   ]
  },
  {
   "cell_type": "markdown",
   "metadata": {},
   "source": [
    "<b>NOTE: Takes a relatively long time to plot (2-5 min)</b>"
   ]
  },
  {
   "cell_type": "code",
   "execution_count": null,
   "metadata": {},
   "outputs": [],
   "source": [
    "# Some fancy code for inferring node position based on communities\n",
    "# https://stackoverflow.com/questions/43541376/how-to-draw-communities-with-networkx/43541777\n",
    "def community_layout(g, partition):\n",
    "    \"\"\"\n",
    "    Compute the layout for a modular graph.\n",
    "\n",
    "\n",
    "    Arguments:\n",
    "    ----------\n",
    "    g -- networkx.Graph or networkx.DiGraph instance\n",
    "        graph to plot\n",
    "\n",
    "    partition -- dict mapping int node -> int community\n",
    "        graph partitions\n",
    "\n",
    "\n",
    "    Returns:\n",
    "    --------\n",
    "    pos -- dict mapping int node -> (float x, float y)\n",
    "        node positions\n",
    "\n",
    "    \"\"\"\n",
    "\n",
    "    pos_communities = _position_communities(g, partition, scale=3.)\n",
    "\n",
    "    pos_nodes = _position_nodes(g, partition, scale=1.)\n",
    "\n",
    "    # combine positions\n",
    "    pos = dict()\n",
    "    for node in g.nodes():\n",
    "        pos[node] = pos_communities[node] + pos_nodes[node]\n",
    "\n",
    "    return pos\n",
    "\n",
    "def _position_communities(g, partition, **kwargs):\n",
    "\n",
    "    # create a weighted graph, in which each node corresponds to a community,\n",
    "    # and each edge weight to the number of edges between communities\n",
    "    between_community_edges = _find_between_community_edges(g, partition)\n",
    "\n",
    "    communities = set(partition.values())\n",
    "    hypergraph = nx.DiGraph()\n",
    "    hypergraph.add_nodes_from(communities)\n",
    "    for (ci, cj), edges in between_community_edges.items():\n",
    "        hypergraph.add_edge(ci, cj, weight=len(edges))\n",
    "\n",
    "    # find layout for communities\n",
    "    pos_communities = nx.spring_layout(hypergraph, **kwargs)\n",
    "\n",
    "    # set node positions to position of community\n",
    "    pos = dict()\n",
    "    for node, community in partition.items():\n",
    "        pos[node] = pos_communities[community]\n",
    "\n",
    "    return pos\n",
    "\n",
    "def _find_between_community_edges(g, partition):\n",
    "\n",
    "    edges = dict()\n",
    "\n",
    "    for (ni, nj) in g.edges():\n",
    "        ci = partition[ni]\n",
    "        cj = partition[nj]\n",
    "\n",
    "        if ci != cj:\n",
    "            try:\n",
    "                edges[(ci, cj)] += [(ni, nj)]\n",
    "            except KeyError:\n",
    "                edges[(ci, cj)] = [(ni, nj)]\n",
    "\n",
    "    return edges\n",
    "\n",
    "def _position_nodes(g, partition, **kwargs):\n",
    "    \"\"\"\n",
    "    Positions nodes within communities.\n",
    "    \"\"\"\n",
    "\n",
    "    communities = dict()\n",
    "    for node, community in partition.items():\n",
    "        try:\n",
    "            communities[community] += [node]\n",
    "        except KeyError:\n",
    "            communities[community] = [node]\n",
    "\n",
    "    pos = dict()\n",
    "    for ci, nodes in communities.items():\n",
    "        subgraph = g.subgraph(nodes)\n",
    "        pos_subgraph = nx.spring_layout(subgraph, **kwargs)\n",
    "        pos.update(pos_subgraph)\n",
    "\n",
    "    return pos\n",
    "\n"
   ]
  },
  {
   "cell_type": "code",
   "execution_count": null,
   "metadata": {},
   "outputs": [],
   "source": [
    "def plot_communities(G):\n",
    "    #colormap2 = np.array([\"magenta\", \"yellow\", \"red\", \"white\", \"black\", \"cyan\"])#, \"#6e6cd5\", \"#e3be38\"])\n",
    "    p = cm.get_cmap('jet', len(set(partition.values())))\n",
    "    colormap = np.array(p(np.arange(len(set(partition.values())))))[:len(set(partition.values()))]\n",
    "    colormap2 = [rgb2hex(colormap[i,:]) for i in range(colormap.shape[0])]\n",
    "    plt.figure(figsize=(25,25))\n",
    "    pos = community_layout(G, partition)\n",
    "\n",
    "    count = 0\n",
    "    for com in set(partition.values()) :\n",
    "        list_nodes = [nodes for nodes in partition.keys() if partition[nodes] == com]\n",
    "        nx.draw_networkx_nodes(G, pos, list_nodes, node_size = 50, alpha=0.6, node_color = colormap2[count], label = 'Community '+str(count))\n",
    "        count = count + 1\n",
    "\n",
    "    nx.draw_networkx_edges(G, pos, alpha=0.10,  edge_color='k')\n",
    "\n",
    "    plt.legend()\n",
    "    plt.axis('off')\n",
    "    plt.title('Plot of inter-community link weights')\n",
    "    plt.show()\n",
    "\n"
   ]
  },
  {
   "cell_type": "code",
   "execution_count": null,
   "metadata": {},
   "outputs": [],
   "source": [
    "plot_communities(G_GCC)"
   ]
  },
  {
   "cell_type": "markdown",
   "metadata": {},
   "source": [
    "The (arguably pictoral) plot above gives us a good first representation of how inter-community links are occurring. Whereas the induced graph representation below will give insight into the interlink structure numerically, this one is arguably more useful in terms of seeing between each pair of communities the relative proportion of high weight links to low weight links. The weighted network was used in this case. Again, given the ad-hoc construction of weights this may not be entirely representative of the true weight structure, however using the unweighted network results in uniformly colored links, which renders this plot uninformative.\n",
    "\n",
    "In the plot, darker links correspond to links with low weight, the lighter they get, the higher the weight. From this, we see that a large portion of links between each community has a low weight, this implies that when going from source article to sink article community traversal a large number of articles are sparsely visited, whereas a low number of articles (the occasional lighter edges) are visited very often. The lighter connections between each community are therefore representative of those two articles in disparate areas which act as common ground between communities (ie. two articles about bioengineering to relate the biology and tech community)."
   ]
  },
  {
   "cell_type": "code",
   "execution_count": null,
   "metadata": {},
   "outputs": [],
   "source": [
    "T_com = community.induced_graph(partition, G_GCC, weight='weight')\n",
    "def plot_graph(G):\n",
    "    plt.figure(figsize=(20,20))\n",
    "    pos = nx.circular_layout(G)\n",
    "    \n",
    "    p = cm.get_cmap('jet', len(set(partition.values())))\n",
    "    colormap = np.array(p(np.arange(len(set(partition.values())))))[:len(set(partition.values()))]\n",
    "    colormap2 = [rgb2hex(colormap[i,:]) for i in range(colormap.shape[0])]\n",
    "    #colormap2 = np.array([\"magenta\", \"yellow\", \"red\", \"white\", \"black\", \"cyan\"])#, \"#6e6cd5\", \"#e3be38\"])\n",
    "\n",
    "    # plot nodes\n",
    "    #nx.draw_networkx_nodes(G, pos, node_color='orange',node_size=2000, alpha=0.5)\n",
    "    count = 0\n",
    "    for com in set(partition.values()) :\n",
    "        #list_nodes = [nodes for nodes in partition.keys() if partition[nodes] == com]\n",
    "        nx.draw_networkx_nodes(G_GCC, pos, nodelist=[count], node_size = 2500, alpha=0.6, node_color = colormap2[count], label = 'Community '+str(count))\n",
    "        count = count + 1\n",
    "    \n",
    "    # plot edges with widths depending on weights\n",
    "    nx.draw_networkx_edges(G, pos, edge_color='k', alpha=0.9, width = [d['weight']/50 for u,v,d in G.edges(data=True)])\n",
    "\n",
    "    # add edges' labels with weights\n",
    "    edge_labels=dict([((u,v), d['weight']) for u,v,d in G.edges(data=True)])\n",
    "    nx.draw_networkx_edge_labels(G, pos, edge_labels=edge_labels)\n",
    "    plt.axis('off')\n",
    "    plt.legend(markerscale=0.2)\n",
    "    plt.show()\n",
    "\n",
    "plot_graph(T_com)"
   ]
  },
  {
   "cell_type": "code",
   "execution_count": null,
   "metadata": {},
   "outputs": [],
   "source": [
    "print(community_counts)\n",
    "print(nx.info(G_game_GCC))\n"
   ]
  },
  {
   "cell_type": "code",
   "execution_count": null,
   "metadata": {},
   "outputs": [],
   "source": []
  },
  {
   "cell_type": "code",
   "execution_count": null,
   "metadata": {},
   "outputs": [],
   "source": []
  },
  {
   "cell_type": "code",
   "execution_count": null,
   "metadata": {},
   "outputs": [],
   "source": []
  },
  {
   "cell_type": "code",
   "execution_count": null,
   "metadata": {},
   "outputs": [],
   "source": []
  },
  {
   "cell_type": "code",
   "execution_count": null,
   "metadata": {},
   "outputs": [],
   "source": []
  },
  {
   "cell_type": "code",
   "execution_count": null,
   "metadata": {},
   "outputs": [],
   "source": []
  }
 ],
 "metadata": {
  "kernelspec": {
   "display_name": "Python 3",
   "language": "python",
   "name": "python3"
  },
  "language_info": {
   "codemirror_mode": {
    "name": "ipython",
    "version": 3
   },
   "file_extension": ".py",
   "mimetype": "text/x-python",
   "name": "python",
   "nbconvert_exporter": "python",
   "pygments_lexer": "ipython3",
   "version": "3.6.5"
  }
 },
 "nbformat": 4,
 "nbformat_minor": 2
}
